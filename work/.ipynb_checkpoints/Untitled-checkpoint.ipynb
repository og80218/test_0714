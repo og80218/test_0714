{
 "cells": [
  {
   "cell_type": "code",
   "execution_count": 1,
   "metadata": {},
   "outputs": [
    {
     "name": "stdout",
     "output_type": "stream",
     "text": [
      "請輸入你要爬的第一筆區間ID(請輸入整數): 2\n",
      "請輸入你要爬的第二筆區間ID(請輸入整數): 5\n",
      "資料已輸出到2020-07-21.txt\n"
     ]
    }
   ],
   "source": [
    "#訪問網站取得相對應資料\n",
    "#取得時間戳記\n",
    "#新增以時間戳記為名子的檔案寫入資料\n",
    "import datetime\n",
    "import requests\n",
    "\n",
    "nowTime = datetime.datetime.utcnow().strftime(\"%Y-%m-%d\") #取得時間\n",
    "\n",
    "x=''\n",
    "y=''\n",
    "while True :     #設計可自訂義取得ID範圍並設定簡易檢查\n",
    "    x=input('請輸入你要爬的第一筆區間ID(請輸入整數): ')\n",
    "    y=input('請輸入你要爬的第二筆區間ID(請輸入整數): ')\n",
    "    if x.isdigit() & y.isdigit() :\n",
    "        x=int(x)\n",
    "        y=int(y)\n",
    "        if x <= y :\n",
    "            y = y + 1\n",
    "            break\n",
    "        elif x > y :\n",
    "            print('區間順序輸入錯誤，請重新輸入')\n",
    "            continue\n",
    "    else :\n",
    "        print('資料輸入有異，請重新輸入')\n",
    "        continue\n",
    "\n",
    "openPython001File = open('{}.txt'.format(nowTime),'w') #新增以時間戳記為名子的檔案寫入資料\n",
    "for i in range(x,y): #訪問網站取得相對應資料\n",
    "    responseWithQueryStringFromRemote = requests.get('https://jsonplaceholder.typicode.com/users',params={\"id\":i})\n",
    "    openPython001File.write(responseWithQueryStringFromRemote.text)\n",
    "openPython001File.close() #關閉檔案\n",
    "print('資料已輸出到{}.txt'.format(nowTime)) #告知已輸出的檔案名稱"
   ]
  },
  {
   "cell_type": "code",
   "execution_count": null,
   "metadata": {},
   "outputs": [],
   "source": []
  }
 ],
 "metadata": {
  "kernelspec": {
   "display_name": "Python 3",
   "language": "python",
   "name": "python3"
  },
  "language_info": {
   "codemirror_mode": {
    "name": "ipython",
    "version": 3
   },
   "file_extension": ".py",
   "mimetype": "text/x-python",
   "name": "python",
   "nbconvert_exporter": "python",
   "pygments_lexer": "ipython3",
   "version": "3.8.3"
  }
 },
 "nbformat": 4,
 "nbformat_minor": 4
}
